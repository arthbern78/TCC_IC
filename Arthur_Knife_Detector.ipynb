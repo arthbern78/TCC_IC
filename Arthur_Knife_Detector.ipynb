{
  "nbformat": 4,
  "nbformat_minor": 0,
  "metadata": {
    "colab": {
      "name": "Arthur-Knife-Detector.ipynb",
      "version": "0.3.2",
      "provenance": [],
      "collapsed_sections": []
    },
    "kernelspec": {
      "name": "python3",
      "display_name": "Python 3"
    }
  },
  "cells": [
    {
      "metadata": {
        "id": "UDRKeBtFg_Nb",
        "colab_type": "code",
        "colab": {
          "base_uri": "https://localhost:8080/",
          "height": 82
        },
        "outputId": "fd032762-0a4a-44f7-ff86-fa7feda88b6d"
      },
      "cell_type": "code",
      "source": [
        "!pip install cmake\n",
        "!pip install dlib"
      ],
      "execution_count": 94,
      "outputs": [
        {
          "output_type": "stream",
          "text": [
            "Requirement already satisfied: cmake in /usr/local/lib/python3.6/dist-packages (3.12.0)\n",
            "Requirement already satisfied: dlib in /usr/local/lib/python3.6/dist-packages (19.16.0)\n"
          ],
          "name": "stdout"
        }
      ]
    },
    {
      "metadata": {
        "id": "0gptUEndhzW3",
        "colab_type": "code",
        "colab": {
          "base_uri": "https://localhost:8080/",
          "height": 34
        },
        "outputId": "cb1fe929-f3f2-4c4a-ae4d-a1d4094a7ab7"
      },
      "cell_type": "code",
      "source": [
        "from google.colab import drive\n",
        "drive.mount('/gdrive',force_remount=True)"
      ],
      "execution_count": 82,
      "outputs": [
        {
          "output_type": "stream",
          "text": [
            "Mounted at /gdrive\n"
          ],
          "name": "stdout"
        }
      ]
    },
    {
      "metadata": {
        "id": "6Vu3DQ3CkR9v",
        "colab_type": "code",
        "colab": {}
      },
      "cell_type": "code",
      "source": [
        "!cp -r /gdrive/My\\ Drive/faca_geral ."
      ],
      "execution_count": 0,
      "outputs": []
    },
    {
      "metadata": {
        "id": "JVQZBh91kWss",
        "colab_type": "code",
        "colab": {
          "base_uri": "https://localhost:8080/",
          "height": 218
        },
        "outputId": "770d7ab6-a153-42c7-f03c-73f27e6d882a"
      },
      "cell_type": "code",
      "source": [
        "!ls faca_geral"
      ],
      "execution_count": 27,
      "outputs": [
        {
          "output_type": "stream",
          "text": [
            " 110.JPG\t\t      DSC07590.JPG   DSC07908.JPG   DSC08536.JPG\n",
            " 113.JPG\t\t      DSC07641.JPG   DSC07956.JPG   DSC08538.JPG\n",
            " 116.JPG\t\t      DSC07734.JPG   DSC08018.JPG   DSC08655.JPG\n",
            " 133.JPG\t\t      DSC07742.JPG   DSC08030.JPG   DSC08765.JPG\n",
            "'Arthur 03.08.2011 001.jpg'   DSC07747.JPG   DSC08182.JPG   DSC08889.JPG\n",
            "'Arthur 03.08.2011 013.jpg'   DSC07808.JPG   DSC08236.JPG   DSC_5484.JPG\n",
            " DSC_0037.JPG\t\t      DSC07815.JPG   DSC08250.JPG   DSC_5490.JPG\n",
            " DSC07348.JPG\t\t      DSC07822.JPG   DSC08468.JPG\n",
            " DSC07384.JPG\t\t      DSC07835.JPG   DSC08530.JPG\n",
            " DSC07388.JPG\t\t      DSC07851.JPG   DSC08534.JPG\n"
          ],
          "name": "stdout"
        }
      ]
    },
    {
      "metadata": {
        "id": "w1it2bdnmFY2",
        "colab_type": "code",
        "colab": {}
      },
      "cell_type": "code",
      "source": [
        "!cp /gdrive/My\\ Drive/Rec_objetos/* ."
      ],
      "execution_count": 0,
      "outputs": []
    },
    {
      "metadata": {
        "id": "Mq9KHbkOtmDJ",
        "colab_type": "code",
        "colab": {
          "base_uri": "https://localhost:8080/",
          "height": 82
        },
        "outputId": "83ec091f-6a13-413b-b32d-525b7af741fa"
      },
      "cell_type": "code",
      "source": [
        "!ls /gdrive/My\\ Drive"
      ],
      "execution_count": 83,
      "outputs": [
        {
          "output_type": "stream",
          "text": [
            "'Colab Notebooks'   kaggle.json  'SQL Server 2012 - isos'\n",
            " Datasets\t    Rec_objetos   t_faca_geral.xml\n"
          ],
          "name": "stdout"
        }
      ]
    },
    {
      "metadata": {
        "id": "mnEGCS2DmkbO",
        "colab_type": "code",
        "colab": {}
      },
      "cell_type": "code",
      "source": [
        "!cp /gdrive/My\\ Drive/t_faca_geral.xml ."
      ],
      "execution_count": 0,
      "outputs": []
    },
    {
      "metadata": {
        "id": "N93rStdSmmFz",
        "colab_type": "code",
        "colab": {
          "base_uri": "https://localhost:8080/",
          "height": 133
        },
        "outputId": "0d1f3828-cd48-424f-a7f5-b4dda41f22c4"
      },
      "cell_type": "code",
      "source": [
        "!ls"
      ],
      "execution_count": 85,
      "outputs": [
        {
          "output_type": "stream",
          "text": [
            "deteccao_facas_serrilhadas.svm\ttreinamento_facas_afiadas.xml\n",
            "deteccao_serrilhada.py\t\ttreinamento_facas_serrilhadas.py\n",
            "faca_geral\t\t\ttreinamento_facas_serrilhadas.xml\n",
            "sample_data\t\t\tvoice.csv\n",
            "t_faca_geral.xml\n"
          ],
          "name": "stdout"
        }
      ]
    },
    {
      "metadata": {
        "id": "Y2nbQ46Emp2Z",
        "colab_type": "code",
        "colab": {
          "base_uri": "https://localhost:8080/",
          "height": 1632
        },
        "outputId": "2bf2f52f-1690-49fa-e164-d25a63a645ea"
      },
      "cell_type": "code",
      "source": [
        "!cat t_faca_geral.xml"
      ],
      "execution_count": 86,
      "outputs": [
        {
          "output_type": "stream",
          "text": [
            "<?xml version='1.0' encoding='ISO-8859-1'?>\r\n",
            "<?xml-stylesheet type='text/xsl' href='image_metadata_stylesheet.xsl'?>\r\n",
            "<dataset>\r\n",
            "<name>imglab dataset</name>\r\n",
            "<comment>Created by imglab tool.</comment>\r\n",
            "<images>\r\n",
            "  <image file='faca_geral/110.JPG'>\r\n",
            "    <box top='399' left='66' width='1152' height='213'/>\r\n",
            "  </image>\r\n",
            "  <image file='faca_geral/113.JPG'>\r\n",
            "    <box top='402' left='119' width='1167' height='211'/>\r\n",
            "  </image>\r\n",
            "  <image file='faca_geral/116.JPG'>\r\n",
            "    <box top='419' left='183' width='1043' height='202'/>\r\n",
            "  </image>\r\n",
            "  <image file='faca_geral/133.JPG'>\r\n",
            "    <box top='286' left='104' width='1105' height='237'/>\r\n",
            "  </image>\r\n",
            "  <image file='faca_geral/DSC07348.JPG'>\r\n",
            "    <box top='732' left='218' width='1030' height='160'/>\r\n",
            "  </image>\r\n",
            "  <image file='faca_geral/DSC07384.JPG'>\r\n",
            "    <box top='659' left='32' width='1296' height='205'/>\r\n",
            "  </image>\r\n",
            "  <image file='faca_geral/DSC07388.JPG'>\r\n",
            "    <box top='603' left='61' width='1207' height='221'/>\r\n",
            "  </image>\r\n",
            "  <image file='faca_geral/DSC07590.JPG'>\r\n",
            "    <box top='604' left='25' width='1312' height='202'/>\r\n",
            "  </image>\r\n",
            "  <image file='faca_geral/DSC07641.JPG'>\r\n",
            "    <box top='612' left='27' width='1251' height='211'/>\r\n",
            "  </image>\r\n",
            "  <image file='faca_geral/DSC07734.JPG'>\r\n",
            "    <box top='206' left='141' width='1228' height='189'/>\r\n",
            "  </image>\r\n",
            "  <image file='faca_geral/DSC07742.JPG'>\r\n",
            "    <box top='150' left='104' width='1237' height='173'/>\r\n",
            "  </image>\r\n",
            "  <image file='faca_geral/DSC07747.JPG'>\r\n",
            "    <box top='180' left='232' width='1091' height='134'/>\r\n",
            "  </image>\r\n",
            "  <image file='faca_geral/DSC07808.JPG'>\r\n",
            "    <box top='587' left='248' width='1007' height='166'/>\r\n",
            "  </image>\r\n",
            "  <image file='faca_geral/DSC07815.JPG'>\r\n",
            "    <box top='665' left='107' width='1163' height='198'/>\r\n",
            "  </image>\r\n",
            "  <image file='faca_geral/DSC07822.JPG'>\r\n",
            "    <box top='594' left='20' width='1235' height='254'/>\r\n",
            "  </image>\r\n",
            "  <image file='faca_geral/DSC07835.JPG'>\r\n",
            "    <box top='652' left='114' width='1132' height='217'/>\r\n",
            "  </image>\r\n",
            "  <image file='faca_geral/DSC07851.JPG'>\r\n",
            "    <box top='691' left='22' width='1306' height='209'/>\r\n",
            "  </image>\r\n",
            "  <image file='faca_geral/DSC07908.JPG'>\r\n",
            "    <box top='680' left='52' width='1279' height='175'/>\r\n",
            "  </image>\r\n",
            "  <image file='faca_geral/DSC07956.JPG'>\r\n",
            "    <box top='612' left='132' width='1112' height='155'/>\r\n",
            "  </image>\r\n",
            "  <image file='faca_geral/DSC08018.JPG'>\r\n",
            "    <box top='500' left='29' width='1295' height='199'/>\r\n",
            "  </image>\r\n",
            "  <image file='faca_geral/DSC08030.JPG'>\r\n",
            "    <box top='576' left='192' width='1048' height='205'/>\r\n",
            "  </image>\r\n",
            "  <image file='faca_geral/DSC08182.JPG'>\r\n",
            "    <box top='581' left='44' width='1281' height='224'/>\r\n",
            "  </image>\r\n",
            "  <image file='faca_geral/DSC08236.JPG'>\r\n",
            "    <box top='492' left='91' width='1276' height='187'/>\r\n",
            "  </image>\r\n",
            "  <image file='faca_geral/DSC08250.JPG'>\r\n",
            "    <box top='501' left='55' width='1242' height='205'/>\r\n",
            "  </image>\r\n",
            "  <image file='faca_geral/DSC08468.JPG'>\r\n",
            "    <box top='661' left='34' width='1259' height='194'/>\r\n",
            "  </image>\r\n",
            "  <image file='faca_geral/DSC08530.JPG'>\r\n",
            "    <box top='684' left='30' width='1331' height='201'/>\r\n",
            "  </image>\r\n",
            "  <image file='faca_geral/DSC08534.JPG'>\r\n",
            "    <box top='582' left='58' width='1271' height='209'/>\r\n",
            "  </image>\r\n",
            "  <image file='faca_geral/DSC08536.JPG'>\r\n",
            "    <box top='698' left='196' width='1136' height='178'/>\r\n",
            "  </image>\r\n",
            "  <image file='faca_geral/DSC08538.JPG'>\r\n",
            "    <box top='559' left='59' width='1238' height='211'/>\r\n",
            "  </image>\r\n",
            "</images>\r\n",
            "</dataset>"
          ],
          "name": "stdout"
        }
      ]
    },
    {
      "metadata": {
        "id": "paC2fgERm6_l",
        "colab_type": "code",
        "colab": {}
      },
      "cell_type": "code",
      "source": [
        "import dlib"
      ],
      "execution_count": 0,
      "outputs": []
    },
    {
      "metadata": {
        "id": "7WvTeYWgnxQd",
        "colab_type": "code",
        "colab": {}
      },
      "cell_type": "code",
      "source": [
        "opcoes = dlib.simple_object_detector_training_options()"
      ],
      "execution_count": 0,
      "outputs": []
    },
    {
      "metadata": {
        "id": "o4G1YL_HpZK-",
        "colab_type": "code",
        "colab": {}
      },
      "cell_type": "code",
      "source": [
        "opcoes.add_left_right_image_flips = True"
      ],
      "execution_count": 0,
      "outputs": []
    },
    {
      "metadata": {
        "id": "iDAjq8TypceA",
        "colab_type": "code",
        "colab": {}
      },
      "cell_type": "code",
      "source": [
        "opcoes.C = 5"
      ],
      "execution_count": 0,
      "outputs": []
    },
    {
      "metadata": {
        "id": "icezGNZjpeAu",
        "colab_type": "code",
        "colab": {}
      },
      "cell_type": "code",
      "source": [
        "dlib.train_simple_object_detector('t_faca_geral.xml','detector_faca.svm',opcoes)"
      ],
      "execution_count": 0,
      "outputs": []
    },
    {
      "metadata": {
        "id": "T3N-zYRrv1hZ",
        "colab_type": "code",
        "colab": {
          "base_uri": "https://localhost:8080/",
          "height": 65
        },
        "outputId": "6b09a108-46e0-4b68-99ad-dd022949a711"
      },
      "cell_type": "code",
      "source": [
        "!ls -l detector_faca.svm"
      ],
      "execution_count": 97,
      "outputs": [
        {
          "output_type": "stream",
          "text": [
            "-rw-r--r-- 1 root root 50253 Oct 26 23:34 detector_faca.svm\n"
          ],
          "name": "stdout"
        }
      ]
    },
    {
      "metadata": {
        "id": "ov5J8_qapwhO",
        "colab_type": "code",
        "colab": {}
      },
      "cell_type": "code",
      "source": [
        "!cp detector_faca.svm /gdrive/My\\ Drive/"
      ],
      "execution_count": 0,
      "outputs": []
    },
    {
      "metadata": {
        "id": "f9OSs2Ryu5qI",
        "colab_type": "code",
        "colab": {}
      },
      "cell_type": "code",
      "source": [
        ""
      ],
      "execution_count": 0,
      "outputs": []
    }
  ]
}